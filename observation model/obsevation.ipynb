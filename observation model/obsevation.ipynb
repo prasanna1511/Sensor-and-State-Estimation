{
 "cells": [
  {
   "cell_type": "markdown",
   "metadata": {},
   "source": [
    "# Exercise 5: Observation model\n",
    "\n",
    "\n",
    "## 5.1 Implement model for perceiving landmarks\n",
    "\n",
    "Consider a robot that operates in an environment populated by **range-only** sensors such as _beacons_.\n",
    "These sensors transmit a signal that allows for obtaining noisy measurements of their distance from a receiver mounted on the robot.\n",
    "\n",
    "The function `landmark_observation_model` realizes the observation model for perceiving landmarks with a range sensor. It takes as input:\n",
    " \n",
    "- the observed noisy range $z$\n",
    "- the standard deviation of the measurement $\\sigma_z$ (zero-mean Gaussian noise)\n",
    "- the position of the robot in the map $x$\n",
    "- the position of the transmitting beacon in the map $b$\n",
    "\n",
    "The output of this function is the probability $p(z | x, m)$ that the measurement $z$ was obtained at position $x$.\n",
    "\n",
    "Implement the `landmark_observation_model` function and verify that it is correct for some test input. **[2.0]**"
   ]
  },
  {
   "cell_type": "code",
   "execution_count": 1,
   "metadata": {},
   "outputs": [
    {
     "name": "stdout",
     "output_type": "stream",
     "text": [
      "0.3167687523552094\n"
     ]
    }
   ],
   "source": [
    "from ex5 import *\n",
    "z = 4\n",
    "sigma_r = 1\n",
    "b = [2.1, 1.7]\n",
    "x = [3.2, 2.8]\n",
    "poses = landmark_observation_model(z,x,b, sigma_r)\n",
    "print(poses)"
   ]
  },
  {
   "cell_type": "markdown",
   "metadata": {},
   "source": [
    "---\n",
    "\n",
    "## 5.2 Compute likelihood of measurement in the environment\n",
    "\n",
    "The robot operates in an environment that is represetend by a 20x20 grid map and contains a beacon at position $b_1 = [0,0]$ (top-left corner). \n",
    "\n",
    "The robot obtains a range measurement of the beacon $z_1 = 10$ and the sensor noise is $\\sigma_{z1} = 1$.\n",
    "\n",
    "Compute the `landmark_observation_model` at each cell of the environment and plot the likelihood of the observation over the environment. **[1.0]** "
   ]
  },
  {
   "cell_type": "code",
   "execution_count": 2,
   "metadata": {},
   "outputs": [
    {
     "data": {
      "image/png": "[encoded data removed]",
      "text/plain": [
       "<Figure size 640x480 with 1 Axes>"
      ]
     },
     "metadata": {},
     "output_type": "display_data"
    }
   ],
   "source": [
    "b1 =[0,0]\n",
    "z1 =10\n",
    "sigam1 = 1\n",
    "\n",
    "gridmap = np.zeros((20,20))\n",
    "for i in range(gridmap.shape[0]):\n",
    "    for j in range(gridmap.shape[1]):\n",
    "        gridmap[i,j] = landmark_observation_model(z1, [i,j], b1, sigam1)\n",
    "\n",
    "plot_gridmap(gridmap)"
   ]
  },
  {
   "cell_type": "markdown",
   "metadata": {},
   "source": [
    "---\n",
    "\n",
    "## 5.3 Multiple landmarks\n",
    "\n",
    "Assume that we install two **additional** beacons in our environment:\n",
    "\n",
    "- $b_2 = [0, 10]$\n",
    "- $b_3 = [10, 0]$\n",
    "\n",
    "from which we obtain the following observations:\n",
    "\n",
    "- $z_2 = 5$ with $\\sigma_{z2} = 3$\n",
    "- $z_3 = 9$ with $\\sigma_{z3} = 2$\n",
    "\n",
    "Compute the `landmark_observation_model` at each cell of the environment considering the measurements from **all** beacons and plot the **joint** likelihood of the observations over the environment. **[2.0]** "
   ]
  },
  {
   "cell_type": "code",
   "execution_count": 3,
   "metadata": {},
   "outputs": [
    {
     "data": {
      "image/png": "[encoded data removed]",
      "text/plain": [
       "<Figure size 640x480 with 1 Axes>"
      ]
     },
     "metadata": {},
     "output_type": "display_data"
    }
   ],
   "source": [
    "b1 = [5, 5] \n",
    "b2 = [0, 10]\n",
    "b3 = [10, 0]\n",
    "b = [b1, b2, b3] \n",
    "\n",
    "z1 = 7.0\n",
    "z2 = 5.0\n",
    "z3 = 9.0\n",
    "z = [z1, z2, z3]\n",
    "\n",
    "\n",
    "sigma1 = 2.0\n",
    "sigma2 = 3.0\n",
    "sigma3 = 2.0\n",
    "sigma = [sigma1, sigma2, sigma3]\n",
    "\n",
    "\n",
    "size = 20\n",
    "\n",
    "\n",
    "gridmap = observation_likelihood(z, b, np.zeros((size, size)), sigma, size)\n",
    "plot_gridmap(gridmap)\n"
   ]
  }
 ],
 "metadata": {
  "kernelspec": {
   "display_name": "Python 3",
   "language": "python",
   "name": "python3"
  },
  "language_info": {
   "codemirror_mode": {
    "name": "ipython",
    "version": 3
   },
   "file_extension": ".py",
   "mimetype": "text/x-python",
   "name": "python",
   "nbconvert_exporter": "python",
   "pygments_lexer": "ipython3",
   "version": "3.11.9"
  }
 },
 "nbformat": 4,
 "nbformat_minor": 4
}
